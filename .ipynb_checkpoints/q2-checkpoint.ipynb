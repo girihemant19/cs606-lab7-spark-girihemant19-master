{
 "cells": [
  {
   "cell_type": "markdown",
   "metadata": {},
   "source": [
    "# Question 2"
   ]
  },
  {
   "cell_type": "code",
   "execution_count": 1,
   "metadata": {
    "ExecuteTime": {
     "end_time": "2019-04-28T01:13:25.092678Z",
     "start_time": "2019-04-28T01:13:23.665456Z"
    }
   },
   "outputs": [],
   "source": [
    "from pyspark import SparkConf, SparkContext\n",
    "import re\n",
    "import numpy as np\n",
    "import matplotlib.pyplot as plt \n",
    "conf = SparkConf()\n",
    "sc = SparkContext(conf=conf)"
   ]
  },
  {
   "cell_type": "code",
   "execution_count": 2,
   "metadata": {
    "ExecuteTime": {
     "end_time": "2019-04-28T01:13:25.782978Z",
     "start_time": "2019-04-28T01:13:25.777239Z"
    }
   },
   "outputs": [],
   "source": [
    "MAX_ITER = 20\n",
    "k = 10"
   ]
  },
  {
   "cell_type": "code",
   "execution_count": 3,
   "metadata": {},
   "outputs": [],
   "source": [
    "# Load data\n",
    "def load(path):\n",
    "    lines = sc.textFile(path)\n",
    "    slines = lines.map(lambda line: [float(v) for v in re.split(r' ', line)])\n",
    "    #print(lines.collect())\n",
    "    return slines"
   ]
  },
  {
   "cell_type": "code",
   "execution_count": 4,
   "metadata": {
    "ExecuteTime": {
     "end_time": "2019-04-28T04:50:44.667666Z",
     "start_time": "2019-04-28T04:50:44.574489Z"
    }
   },
   "outputs": [],
   "source": [
    "# Distance\n",
    "def dist(l, c, dist_type):\n",
    "    if dist_type == 'Euclidean':\n",
    "        print(np.linalg.norm(np.array(l)-c, 2))\n",
    "        return np.linalg.norm(np.array(l)-c, 2)\n",
    "    elif dist_type == 'Manhattan':\n",
    "        return np.linalg.norm(np.array(l)-c, 1)\n",
    "    else:\n",
    "        raise ValueError(\"Invalid Distance Type!\")\n",
    "\n",
    "# Minimum and corresponding index\n",
    "def min_and_ind(l):\n",
    "    print(l)\n",
    "    return (np.min(l), np.argmin(l))\n",
    "\n",
    "# Calculate L2 centroids\n",
    "def c_2(l):\n",
    "    c = np.zeros(len(l[0]))\n",
    "    for v in l:\n",
    "        c += np.array(v)\n",
    "    return c/len(l)\n",
    "    \n",
    "\n",
    "# Do k-means clustering\n",
    "def clustering(data, c, dist_type = 'Euclidean'):\n",
    "    \n",
    "    it = 0\n",
    "    costs = []\n",
    "    c_array = np.array(c.collect())\n",
    "    \n",
    "    while it < MAX_ITER:\n",
    "        # print(c_array[0][0:3])\n",
    "        clusters = data.map(lambda line: (line, min_and_ind([dist(line, cc, dist_type) for cc in c_array])))\\\n",
    "                       .map(lambda line: (line[1][1], (line[0], line[1][0])))\\\n",
    "                       .groupByKey()\\\n",
    "                       .mapValues(lambda vs: [v for v in vs])\n",
    "        cost = clusters.map(lambda line: (1, sum([v[1] for v in line[1]])))\\\n",
    "                       .reduceByKey(lambda n1, n2: n1+n2)\\\n",
    "                       .collect()[0][1]\n",
    "        centroids = clusters.map(lambda line: [v[0] for v in line[1]])\\\n",
    "                            .map(lambda line: list(c_2(line)))\\\n",
    "                            .collect()\n",
    "\n",
    "        it += 1\n",
    "        costs.append(cost)\n",
    "        c_array = np.array(centroids)\n",
    "    \n",
    "    return costs\n",
    "\n",
    "# Plot the cost versus iteration\n",
    "def solve(data, c1, c2, dist_type):\n",
    "    \n",
    "    costs1 = clustering(data, c1, dist_type)\n",
    "    costs2 = clustering(data, c2, dist_type)\n",
    "    \n",
    "    plt.figure(figsize = (12,5))\n",
    "    plt.subplot(121)\n",
    "    plt.plot(costs1, 'ro-')\n",
    "    plt.xlabel('iteration')\n",
    "    plt.ylabel('cost')\n",
    "    plt.subplot(122)\n",
    "    plt.plot(costs2, 'bo-')\n",
    "    plt.xlabel('iteration')\n",
    "    plt.ylabel('cost')\n",
    "    plt.show()\n",
    "    print('The percent change after 10 iterations for c1 is '+str((1-costs1[9]/costs1[0])*100)+'%')\n",
    "    print('The percent change after 10 iterations for c2 is '+str((1-costs2[9]/costs2[0])*100)+'%')"
   ]
  },
  {
   "cell_type": "code",
   "execution_count": 5,
   "metadata": {
    "ExecuteTime": {
     "end_time": "2019-04-28T05:04:28.287246Z",
     "start_time": "2019-04-28T05:03:56.934950Z"
    },
    "scrolled": false
   },
   "outputs": [
    {
     "name": "stderr",
     "output_type": "stream",
     "text": [
      "/home/hemant/.local/lib/python3.7/site-packages/ipykernel_launcher.py:52: RuntimeWarning: invalid value encountered in double_scalars\n"
     ]
    },
    {
     "data": {
      "image/png": "[encoded data removed]",
      "text/plain": [
       "<Figure size 1224x360 with 2 Axes>"
      ]
     },
     "metadata": {
      "needs_background": "light"
     },
     "output_type": "display_data"
    }
   ],
   "source": [
    "if __name__ == '__main__':\n",
    "    data = load('/home/hemant/Desktop/cs606-lab7-spark-girihemant19/k-means/data.txt')\n",
    "    c1 = load('/home/hemant/Desktop/cs606-lab7-spark-girihemant19/k-means/near.txt')\n",
    "    c2 = load('/home/hemant/Desktop/cs606-lab7-spark-girihemant19/k-means/far.txt')\n",
    "    solve(data, c1, c2, 'Euclidean')\n",
    "sc.stop()"
   ]
  },
  {
   "cell_type": "code",
   "execution_count": null,
   "metadata": {},
   "outputs": [],
   "source": []
  },
  {
   "cell_type": "code",
   "execution_count": null,
   "metadata": {},
   "outputs": [],
   "source": []
  }
 ],
 "metadata": {
  "kernelspec": {
   "display_name": "Python 3",
   "language": "python",
   "name": "python3"
  },
  "language_info": {
   "codemirror_mode": {
    "name": "ipython",
    "version": 3
   },
   "file_extension": ".py",
   "mimetype": "text/x-python",
   "name": "python",
   "nbconvert_exporter": "python",
   "pygments_lexer": "ipython3",
   "version": "3.7.3"
  },
  "latex_envs": {
   "LaTeX_envs_menu_present": true,
   "autoclose": false,
   "autocomplete": true,
   "bibliofile": "biblio.bib",
   "cite_by": "apalike",
   "current_citInitial": 1,
   "eqLabelWithNumbers": true,
   "eqNumInitial": 1,
   "hotkeys": {
    "equation": "Ctrl-E",
    "itemize": "Ctrl-I"
   },
   "labels_anchors": false,
   "latex_user_defs": false,
   "report_style_numbering": false,
   "user_envs_cfg": false
  },
  "varInspector": {
   "cols": {
    "lenName": 16,
    "lenType": 16,
    "lenVar": 40
   },
   "kernels_config": {
    "python": {
     "delete_cmd_postfix": "",
     "delete_cmd_prefix": "del ",
     "library": "var_list.py",
     "varRefreshCmd": "print(var_dic_list())"
    },
    "r": {
     "delete_cmd_postfix": ") ",
     "delete_cmd_prefix": "rm(",
     "library": "var_list.r",
     "varRefreshCmd": "cat(var_dic_list()) "
    }
   },
   "types_to_exclude": [
    "module",
    "function",
    "builtin_function_or_method",
    "instance",
    "_Feature"
   ],
   "window_display": false
  }
 },
 "nbformat": 4,
 "nbformat_minor": 2
}
